{
 "cells": [
  {
   "cell_type": "code",
   "execution_count": null,
   "id": "eafd46fc",
   "metadata": {
    "colab": {
     "base_uri": "https://localhost:8080/"
    },
    "id": "eafd46fc",
    "outputId": "69cc86cf-eb41-486d-9b08-bedeac1b0657"
   },
   "outputs": [],
   "source": [
    "import os\n",
    "import json\n",
    "import math\n",
    "import numpy as np \n",
    "import pandas as pd\n",
    "\n",
    "import matplotlib.pyplot as plt\n",
    "%matplotlib inline \n",
    "from IPython.display import set_matplotlib_formats\n",
    "set_matplotlib_formats('svg', 'pdf') \n",
    "from matplotlib.colors import to_rgb\n",
    "import matplotlib\n",
    "matplotlib.rcParams['lines.linewidth'] = 2.0\n",
    "import seaborn as sns\n",
    "sns.reset_orig()\n",
    "sns.set()\n",
    "\n",
    "import torch\n",
    "import torch.nn as nn\n",
    "import torch.nn.functional as F\n",
    "import torch.utils.data as data\n",
    "import torch.optim as optim\n",
    "\n",
    "import torchvision\n",
    "from torchvision.datasets import FashionMNIST\n",
    "from torchvision import transforms\n",
    "\n",
    "device = torch.device(\"cuda\")\n"
   ]
  },
  {
   "cell_type": "markdown",
   "id": "c2565dcc",
   "metadata": {},
   "source": [
    "# data preprocessing"
   ]
  },
  {
   "cell_type": "code",
   "execution_count": null,
   "id": "b3160875",
   "metadata": {
    "id": "b3160875"
   },
   "outputs": [],
   "source": [
    "transform = transforms.Compose(\n",
    "    [\n",
    "     transforms.RandomHorizontalFlip(),\n",
    "     transforms.ToTensor(),\n",
    "     transforms.Normalize((0.5, 0.5, 0.5), (0.5, 0.5, 0.5))\n",
    "    ]\n",
    "     )\n",
    "\n",
    "\n",
    "batch_size = 32\n",
    "dataset = torchvision.datasets.ImageFolder(\"/dataset_folder/\", transform=transform)\n",
    "\n",
    "train_dataset,test_set = torch.utils.data.random_split(dataset, [0.8,0.2]) \n",
    "trainloader = torch.utils.data.DataLoader(train_dataset, batch_size=batch_size,\n",
    "                                          shuffle=True, num_workers=2)\n",
    "testloader = torch.utils.data.DataLoader(test_set, batch_size=batch_size,\n",
    "                                         shuffle=False, num_workers=2)\n",
    "\n",
    "train_loader = data.DataLoader(train_dataset, batch_size=128, shuffle=True, drop_last=True, pin_memory=True, num_workers=2)\n",
    "test_loader = data.DataLoader(test_set, batch_size=128, shuffle=False, drop_last=False, num_workers=2)"
   ]
  },
  {
   "cell_type": "markdown",
   "id": "15889475",
   "metadata": {},
   "source": [
    "# GAN model"
   ]
  },
  {
   "cell_type": "code",
   "execution_count": null,
   "id": "16015e10",
   "metadata": {},
   "outputs": [],
   "source": [
    "class Generator(nn.Module):\n",
    "    def __init__(self, latent_dim):\n",
    "        super(Generator, self).__init__()\n",
    "        self.latent_dim = latent_dim\n",
    "        self.linear1 = nn.Linear(latent_dim, 512)  \n",
    "        self.main = nn.Sequential(\n",
    "            nn.ConvTranspose2d(512, 256, 4, 1, 0, bias=False),\n",
    "            nn.BatchNorm2d(256),\n",
    "            nn.ReLU(True),\n",
    "            nn.ConvTranspose2d(256, 128, 4, 2, 1, bias=False),\n",
    "            nn.BatchNorm2d(128),\n",
    "            nn.ReLU(True),\n",
    "            nn.ConvTranspose2d(128, 64, 4, 2, 1, bias=False),\n",
    "            nn.BatchNorm2d(64),\n",
    "            nn.ReLU(True),\n",
    "            nn.ConvTranspose2d(64, 3, 4, 2, 1, bias=False),\n",
    "            nn.Tanh()\n",
    "        )\n",
    "\n",
    "    def forward(self, input):       \n",
    "        output = self.linear1(input)\n",
    "        output = output.view(output.size(0), 512, 1, 1)  \n",
    "        output = self.main(output)\n",
    "        return output\n",
    "\n",
    "\n",
    "class Discriminator(nn.Module):\n",
    "    def __init__(self):\n",
    "        super(Discriminator, self).__init__()\n",
    "        self.main = nn.Sequential(\n",
    "            nn.Conv2d(3, 64, 4, 2, 1, bias=False),\n",
    "            nn.LeakyReLU(0.2, inplace=True),\n",
    "            nn.Conv2d(64, 128, 4, 2, 1, bias=False),\n",
    "            nn.BatchNorm2d(128),\n",
    "            nn.LeakyReLU(0.2, inplace=True),\n",
    "            nn.Conv2d(128, 256, 4, 2, 1, bias=False),\n",
    "            nn.BatchNorm2d(256),\n",
    "            nn.LeakyReLU(0.2, inplace=True),\n",
    "            nn.Conv2d(256, 1, 4, 1, 0, bias=False),\n",
    "            nn.Sigmoid()\n",
    "        )\n",
    "\n",
    "    def forward(self, input):\n",
    "        output = self.main(input)\n",
    "        return output.view(-1, 1).squeeze(1)"
   ]
  },
  {
   "cell_type": "markdown",
   "id": "af06e56a",
   "metadata": {},
   "source": [
    "# parameters"
   ]
  },
  {
   "cell_type": "code",
   "execution_count": null,
   "id": "a0802357",
   "metadata": {
    "id": "a0802357"
   },
   "outputs": [],
   "source": [
    "# Models\n",
    "latent_dim = 32\n",
    "generator = Generator(latent_dim)\n",
    "discriminator = Discriminator()\n",
    "\n",
    "if torch.cuda.is_available(): \n",
    "    torch.cuda.manual_seed(42)\n",
    "    torch.cuda.manual_seed_all(42)\n",
    "    generator.to(device)\n",
    "    discriminator.to(device)\n",
    "\n",
    "# Optimizers\n",
    "generator_optimizer = torch.optim.Adam(generator.parameters(), lr=0.001)\n",
    "generator_scheduler = optim.lr_scheduler.ExponentialLR(optimizer=generator_optimizer, gamma=0.99)\n",
    "\n",
    "discriminator_optimizer = torch.optim.Adam(discriminator.parameters(), lr=0.001)\n",
    "discriminator_scheduler = optim.lr_scheduler.ExponentialLR(optimizer=discriminator_optimizer, gamma=0.99)\n",
    "\n",
    "# loss\n",
    "criterion = nn.BCELoss()"
   ]
  },
  {
   "cell_type": "code",
   "execution_count": null,
   "id": "bf889ead",
   "metadata": {
    "id": "bf889ead"
   },
   "outputs": [],
   "source": [
    "fixed_noise = torch.randn(16, latent_dim,1,1).to(device)"
   ]
  },
  {
   "cell_type": "markdown",
   "id": "d1aa267d",
   "metadata": {},
   "source": [
    "# training"
   ]
  },
  {
   "cell_type": "code",
   "execution_count": null,
   "id": "a9858999",
   "metadata": {
    "colab": {
     "base_uri": "https://localhost:8080/",
     "height": 1000
    },
    "id": "a9858999",
    "outputId": "3931388c-5e6c-4ab7-814f-2fa55ec5d925"
   },
   "outputs": [],
   "source": [
    "G_losses = []\n",
    "D_losses = []\n",
    "num_epochs = 100\n",
    "for epoch in range(num_epochs):\n",
    "    discriminator_fake_acc = []\n",
    "    discriminator_real_acc = []\n",
    "    for i, data in enumerate(train_loader, 0):\n",
    "        discriminator_optimizer.zero_grad()\n",
    "        real_images = data[0].to(device)\n",
    "        b_size = real_images.size(0)\n",
    "        label = torch.ones((b_size,), dtype=torch.float).to(device) # Setting labels for real images\n",
    "        output = discriminator(real_images).view(-1)\n",
    "        error_discriminator_real = criterion(output, label)\n",
    "        discriminator_real_acc.append(output.mean().item())\n",
    "        noise = torch.randn(b_size, latent_dim,1,1).to(device)\n",
    "        fake_images = generator(noise).to(device)\n",
    "        label_fake = torch.zeros((b_size,), dtype=torch.float).to(device)\n",
    "        output = discriminator(fake_images.detach()).view(-1)\n",
    "        error_discriminator_fake = criterion(output, label_fake)\n",
    "        discriminator_fake_acc.append(output.mean().item())\n",
    "        error_discriminator = error_discriminator_real + error_discriminator_fake\n",
    "        error_discriminator.backward()\n",
    "        discriminator_optimizer.step()\n",
    "\n",
    "        generator_optimizer.zero_grad()\n",
    "        label = torch.ones((b_size,), dtype=torch.float).to(device)  # fake labels are real for generator cost\n",
    "        output = discriminator(fake_images).view(-1)\n",
    "        error_generator = criterion(output, label)\n",
    "        error_generator.backward()\n",
    "        D_G_z2 = output.mean().item()\n",
    "        generator_optimizer.step()\n",
    "\n",
    "        G_losses.append(error_generator.item())\n",
    "        D_losses.append(error_discriminator.item())\n",
    "\n",
    "    print(f\"Epoch: {epoch}, discrimiantor fake error: {np.mean(discriminator_fake_acc):.3}, discriminator real acc: {np.mean(discriminator_real_acc):.3}\")\n",
    "    generator_scheduler.step()\n",
    "    discriminator_scheduler.step()\n",
    "    if epoch % 10 == 0:\n",
    "        with torch.no_grad():\n",
    "            fake = generator(fixed_noise).detach().cpu()\n",
    "        grid = torchvision.utils.make_grid(fake, normalize=True)\n",
    "        grid = grid.permute(1, 2, 0)\n",
    "        plt.figure(figsize=(10,10))\n",
    "        plt.title(f\"Generations\")\n",
    "        plt.imshow(grid)\n",
    "        plt.axis('off')\n",
    "        plt.show()"
   ]
  },
  {
   "cell_type": "markdown",
   "id": "8ba604b5",
   "metadata": {},
   "source": [
    "# generate new data"
   ]
  },
  {
   "cell_type": "code",
   "execution_count": null,
   "id": "690aea83",
   "metadata": {
    "id": "690aea83"
   },
   "outputs": [],
   "source": [
    "from torchvision.utils import save_image\n",
    "from PIL import Image\n",
    "\n",
    "random_noise = torch.randn(1000, latent_dim).to(device)\n",
    "with torch.no_grad():\n",
    "        generated_imgs = generator(random_noise).detach().cpu()\n",
    "\n",
    "torch.save(generated_imgs,\"poniedzialek_haczynski_zemla.pt\")\n",
    "!mkdir  -p /content/ssne_4/output/images/\n",
    "!mkdir  -p /content/ssne_4/output/real_images/\n",
    "for i in range(len(generated_imgs)):\n",
    "    img1 = generated_imgs[i]\n",
    "    grid = torchvision.utils.make_grid(img1, normalize=True)\n",
    "    grid = grid.permute(1, 2, 0)\n",
    "    grid = grid.cpu().numpy() * 255\n",
    "    grid = grid.astype(np.uint8)\n",
    "    grid = Image.fromarray(grid)\n",
    "    grid.save(\"/images/\"+str(i)+\".jpeg\")\n",
    "\n",
    "from torchvision.datasets import ImageFolder\n",
    "from PIL import Image\n",
    "import os\n",
    "from torchvision.transforms import ToPILImage"
   ]
  }
 ],
 "metadata": {
  "accelerator": "GPU",
  "colab": {
   "gpuType": "V100",
   "provenance": [],
   "toc_visible": true
  },
  "gpuClass": "standard",
  "kernelspec": {
   "display_name": "Python 3 (ipykernel)",
   "language": "python",
   "name": "python3"
  },
  "language_info": {
   "codemirror_mode": {
    "name": "ipython",
    "version": 3
   },
   "file_extension": ".py",
   "mimetype": "text/x-python",
   "name": "python",
   "nbconvert_exporter": "python",
   "pygments_lexer": "ipython3",
   "version": "3.7.9"
  }
 },
 "nbformat": 4,
 "nbformat_minor": 5
}
